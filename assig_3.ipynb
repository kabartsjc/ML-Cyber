{
 "cells": [
  {
   "cell_type": "markdown",
   "metadata": {},
   "source": [
    "# Question 1 - Implement an anomalous detection system, using the ARIMA and the Artificial Neural Network (ANN) - LSTM (30 points)."
   ]
  },
  {
   "cell_type": "markdown",
   "metadata": {},
   "source": [
    "### PART I - ARIMA (15 points)"
   ]
  },
  {
   "cell_type": "markdown",
   "metadata": {},
   "source": [
    "The first part of the exercise is to implement a set of support ARIMA's functions. This functions is required to perform the main tasks related with ARIMA model."
   ]
  },
  {
   "cell_type": "code",
   "execution_count": 142,
   "metadata": {},
   "outputs": [],
   "source": [
    "from statsmodels.tsa.stattools import adfuller\n",
    "import pyflux as pf\n",
    "import statsmodels.api as sm\n",
    "import matplotlib.pyplot as plt\n",
    "from sklearn.model_selection import train_test_split\n",
    "\n",
    "import pandas as pd\n",
    "\n",
    "def load_arima_data(csv_file):\n",
    "    ds = pd.read_csv(csv_file,\n",
    "                         parse_dates=[0],infer_datetime_format=True)\n",
    "    ds = ds.sort_index()\n",
    "    print(ds.head())\n",
    "    print(ds.tail())\n",
    "    return ds\n",
    "\n",
    "def adfuller_test(data):\n",
    "    result=adfuller(data)\n",
    "    labels = ['ADF Test Statistic','p-value','#Lags Used','Number of Observations']\n",
    "    for value,label in zip(result,labels):\n",
    "        print(label+' : '+str(value) )\n",
    "\n",
    "    if result[1] <= 0.05:\n",
    "        print(\"strong evidence against the null hypothesis(Ho), reject the null hypothesis. Data is stationary\")\n",
    "    else:\n",
    "        print(\"weak evidence against null hypothesis,indicating it is non-stationary \")\n",
    "\n",
    "    print('\\n')\n",
    "\n",
    "\n",
    "def plot_acf(data):\n",
    "    fig = plt.figure(figsize=(12, 8))\n",
    "    ax1 = fig.add_subplot(211)\n",
    "    fig = sm.graphics.tsa.plot_acf(data.dropna(), lags=40, ax=ax1)\n",
    "    plt.title('Autocorrelation - Definition of p term - AR')\n",
    "    plt.show()\n",
    "    plt.clf()\n",
    "    plt.cla()\n",
    "    plt.close()\n",
    "\n",
    "def plot_pacf(data):\n",
    "    fig = plt.figure(figsize=(12, 8))\n",
    "    ax1 = fig.add_subplot(211)\n",
    "    fig = sm.graphics.tsa.plot_pacf(data.dropna(), lags=40, ax=ax1)\n",
    "    plt.title('Partial Autocorrelation - Definition of q term - MA')\n",
    "    plt.show()\n",
    "    plt.clf()\n",
    "    plt.cla()\n",
    "    plt.close()\n",
    "\n",
    "def split_arima_dataset(ds, target_field, test_size):\n",
    "    ds  = ds.loc[:, [target_field]]\n",
    "\n",
    "    train_set, test_set = train_test_split(ds, test_size=test_size, shuffle=False)\n",
    "    test_set = test_set.sort_index()\n",
    "    train_set = train_set.sort_index()\n",
    "    return train_set, test_set\n",
    "\n",
    "def generate_arima_model(dataset, diff, p, q, target_field):\n",
    "    model = pf.ARIMA(data=dataset,\n",
    "                     ar=p, ma=q, integ=diff, target=target_field,family=pf.Normal())\n",
    "    return model\n",
    "\n",
    "def fit_arima_model(model, algo):\n",
    "    result = model.fit(algo, nsims=50000)\n",
    "    print(result.summary())\n",
    "    return model\n",
    "\n",
    "def predict_arima (model, number_samples):\n",
    "    pred_set = model.predict(h=number_samples)\n",
    "    return pred_set\n",
    "\n",
    "\n",
    "def plot_arima_result(y_test, predicted):\n",
    "    try:\n",
    "        plt.figure(figsize=(20, 8))\n",
    "\n",
    "        plt.plot(y_test[:len(y_test)], 'b', label='Observed')\n",
    "        plt.plot(predicted[:len(y_test)], 'g', label='Predicted')\n",
    "        #plt.plot(((y_test - predicted) ** 2), 'r', label='Root-mean-square deviation')\n",
    "        plt.legend()\n",
    "        plt.show()\n",
    "    except Exception as e:\n",
    "        print(\"plotting exception\")\n",
    "        print(str(e))\n"
   ]
  },
  {
   "cell_type": "markdown",
   "metadata": {},
   "source": [
    "Following this, we load the dataset, to be analyzed."
   ]
  },
  {
   "cell_type": "code",
   "execution_count": 143,
   "metadata": {},
   "outputs": [
    {
     "name": "stdout",
     "output_type": "stream",
     "text": [
      "             datetime  Bearing1\n",
      "0 2004-02-12 10:52:00  0.060236\n",
      "1 2004-02-12 11:02:00  0.061455\n",
      "2 2004-02-12 11:12:00  0.061361\n",
      "3 2004-02-12 11:22:00  0.061665\n",
      "4 2004-02-12 11:32:00  0.061944\n",
      "               datetime  Bearing1\n",
      "977 2004-02-19 05:42:00  0.453335\n",
      "978 2004-02-19 05:52:00  0.337583\n",
      "979 2004-02-19 06:02:00  0.351111\n",
      "980 2004-02-19 06:12:00  0.001857\n",
      "981 2004-02-19 06:22:00  0.001168\n"
     ]
    }
   ],
   "source": [
    "csv_file = \"Averaged_BearingTest_Dataset.csv\"\n",
    "\n",
    "data = load_arima_data(csv_file)"
   ]
  },
  {
   "cell_type": "markdown",
   "metadata": {},
   "source": [
    "Once the dataset is loaded, we will check whether it is stationary or not, using the adfuller test. "
   ]
  },
  {
   "cell_type": "code",
   "execution_count": 144,
   "metadata": {},
   "outputs": [
    {
     "name": "stdout",
     "output_type": "stream",
     "text": [
      "ADF Test Statistic : 0.8917403093291825\n",
      "p-value : 0.992981582856441\n",
      "#Lags Used : 22\n",
      "Number of Observations : 959\n",
      "weak evidence against null hypothesis,indicating it is non-stationary \n",
      "\n",
      "\n"
     ]
    }
   ],
   "source": [
    "adfuller_test(data['Bearing1'])"
   ]
  },
  {
   "cell_type": "markdown",
   "metadata": {},
   "source": [
    "As we can see, the dataset is not stationary. So, we will apply one differencing on that."
   ]
  },
  {
   "cell_type": "code",
   "execution_count": 145,
   "metadata": {},
   "outputs": [
    {
     "name": "stdout",
     "output_type": "stream",
     "text": [
      "ADF Test Statistic : -7.127045167564613\n",
      "p-value : 3.5976701044451064e-10\n",
      "#Lags Used : 22\n",
      "Number of Observations : 958\n",
      "strong evidence against the null hypothesis(Ho), reject the null hypothesis. Data is stationary\n",
      "\n",
      "\n"
     ]
    }
   ],
   "source": [
    "data['DiffBearing1'] = data['Bearing1'] - data['Bearing1'].shift(1)\n",
    "adfuller_test(data['DiffBearing1'].dropna())\n",
    "data.dropna(inplace=True)"
   ]
  },
  {
   "cell_type": "markdown",
   "metadata": {},
   "source": [
    "Now, the series is stationary.\n",
    "The next step is to plot of autocorrelation to check the AR (p) term."
   ]
  },
  {
   "cell_type": "code",
   "execution_count": 146,
   "metadata": {},
   "outputs": [
    {
     "data": {
      "image/png": "[encoded data removed]",
      "text/plain": [
       "<Figure size 864x576 with 1 Axes>"
      ]
     },
     "metadata": {
      "needs_background": "light"
     },
     "output_type": "display_data"
    }
   ],
   "source": [
    "plot_acf(data['DiffBearing1'])"
   ]
  },
  {
   "cell_type": "markdown",
   "metadata": {},
   "source": [
    "Check the result; we can see that we can set p as 2,4,9, etc."
   ]
  },
  {
   "cell_type": "markdown",
   "metadata": {},
   "source": [
    "Next, we will plot the partial autocorrelation of data, calculating the MA (q) term."
   ]
  },
  {
   "cell_type": "code",
   "execution_count": 147,
   "metadata": {},
   "outputs": [
    {
     "data": {
      "image/png": "[encoded data removed]",
      "text/plain": [
       "<Figure size 864x576 with 1 Axes>"
      ]
     },
     "metadata": {
      "needs_background": "light"
     },
     "output_type": "display_data"
    }
   ],
   "source": [
    "plot_pacf(data['DiffBearing1'])"
   ]
  },
  {
   "cell_type": "markdown",
   "metadata": {},
   "source": [
    "Checking the result, we can set q as 2, 4, or 5, etc."
   ]
  },
  {
   "cell_type": "code",
   "execution_count": 148,
   "metadata": {},
   "outputs": [],
   "source": [
    "d = 1\n",
    "p = 2\n",
    "q = 2"
   ]
  },
  {
   "cell_type": "markdown",
   "metadata": {},
   "source": [
    "The next phase is splitting the dataset into a training and a test dataset. We define that the training dataset size will have 80% of the original one."
   ]
  },
  {
   "cell_type": "code",
   "execution_count": 149,
   "metadata": {},
   "outputs": [],
   "source": [
    "arima_train_set, arima_test_set = split_arima_dataset(data, 'DiffBearing1', 0.2)"
   ]
  },
  {
   "cell_type": "markdown",
   "metadata": {},
   "source": [
    "Now, we will generate the ARIMA model, using the training dataset previously created. "
   ]
  },
  {
   "cell_type": "code",
   "execution_count": 150,
   "metadata": {},
   "outputs": [],
   "source": [
    "model_arima = generate_arima_model(arima_train_set, d, p, q, \"DiffBearing1\")"
   ]
  },
  {
   "cell_type": "markdown",
   "metadata": {},
   "source": [
    "If the model is created,  the next step is the model's fit, using the MLE algorithm. During this step, we will measure the time and cpu consume, aimiming provide insights to answer the question 2."
   ]
  },
  {
   "cell_type": "code",
   "execution_count": 151,
   "metadata": {},
   "outputs": [
    {
     "name": "stdout",
     "output_type": "stream",
     "text": [
      "Normal ARIMA(2,1,2)                                                                                       \n",
      "======================================================= ==================================================\n",
      "Dependent Variable: Differenced DiffBearing1            Method: MLE                                       \n",
      "Start Date: 3                                           Log Likelihood: 3132.9802                         \n",
      "End Date: 784                                           AIC: -6253.9603                                   \n",
      "Number of observations: 781                             BIC: -6225.9969                                   \n",
      "==========================================================================================================\n",
      "Latent Variable                          Estimate   Std Error  z        P>|z|    95% C.I.                 \n",
      "======================================== ========== ========== ======== ======== =========================\n",
      "Constant                                 0.0        0.0002     0.0302   0.9759   (-0.0005 | 0.0005)       \n",
      "AR(1)                                    -0.0       1.1336     -0.0     1.0      (-2.2219 | 2.2219)       \n",
      "AR(2)                                    0.0        2.5045     0.0      1.0      (-4.9087 | 4.9088)       \n",
      "MA(1)                                    -0.0       1.2124     -0.0     1.0      (-2.3763 | 2.3763)       \n",
      "MA(2)                                    0.0        2.5267     0.0      1.0      (-4.9524 | 4.9524)       \n",
      "Normal Scale                             0.0067                                                           \n",
      "==========================================================================================================\n",
      "None\n"
     ]
    }
   ],
   "source": [
    "t0 = times.time()\n",
    "cpu_t0 = psutil.cpu_percent(interval=0.5)\n",
    "model_arima = fit_arima_model(model_arima, \"MLE\")\n",
    "t1=times.time()\n",
    "cpu_t1 = psutil.cpu_percent(interval=0.5)"
   ]
  },
  {
   "cell_type": "markdown",
   "metadata": {},
   "source": [
    "Analyzing the fit results, we can see that the values selected to MA and AR perform well."
   ]
  },
  {
   "cell_type": "markdown",
   "metadata": {},
   "source": [
    "The training time (arima_train_t) and the cpu consume (arima_cpu_train_perc) is calculated using following expressions:"
   ]
  },
  {
   "cell_type": "code",
   "execution_count": 152,
   "metadata": {},
   "outputs": [],
   "source": [
    "arima_train_t = t1 - t0\n",
    "arima_cpu_train = abs(cpu_t1 - cpu_t0)"
   ]
  },
  {
   "cell_type": "markdown",
   "metadata": {},
   "source": [
    "Now, the model is ready to predict values. As we will use the testset to evaluate the model, we will generate the same number size of the testset to make predictions."
   ]
  },
  {
   "cell_type": "code",
   "execution_count": 153,
   "metadata": {},
   "outputs": [],
   "source": [
    "t0 = times.time()\n",
    "cpu_t0 = psutil.cpu_percent(interval=0.5)\n",
    "arima_pred = predict_arima(model_arima, len(arima_test_set))\n",
    "t1 = times.time()\n",
    "cpu_t1 = psutil.cpu_percent(interval=0.5)"
   ]
  },
  {
   "cell_type": "markdown",
   "metadata": {},
   "source": [
    "The prediction time (arima_pred_t) and the cpu consume (arima_cpu_pred_perc) is calculated using following expressions:"
   ]
  },
  {
   "cell_type": "code",
   "execution_count": 154,
   "metadata": {},
   "outputs": [],
   "source": [
    "arima_pred_t = t1 - t0\n",
    "arima_cpu_pred_perc = abs(cpu_t1 - cpu_t0)"
   ]
  },
  {
   "cell_type": "markdown",
   "metadata": {},
   "source": [
    "Finally, we evaluate ARIMA, using the testset and predictions to perform this task."
   ]
  },
  {
   "cell_type": "code",
   "execution_count": 155,
   "metadata": {},
   "outputs": [
    {
     "data": {
      "image/png": "[encoded data removed]",
      "text/plain": [
       "<Figure size 1440x576 with 1 Axes>"
      ]
     },
     "metadata": {
      "needs_background": "light"
     },
     "output_type": "display_data"
    }
   ],
   "source": [
    "arima_pred = np.array(arima_pred.values)\n",
    "arima_test_set = arima_test_set.values\n",
    "X_test = arima_test_set[:, :-1]\n",
    "arima_y_test = arima_test_set[:, -1]\n",
    "\n",
    "plot_arima_result(arima_test_set, arima_pred)"
   ]
  },
  {
   "cell_type": "markdown",
   "metadata": {},
   "source": [
    "### PART II - LSTM (15 POINTS)"
   ]
  },
  {
   "cell_type": "markdown",
   "metadata": {},
   "source": [
    "The second part of the exercise is to implement a set of support LSTM's functions. This functions is required to perform the main tasks related with LSTM model."
   ]
  },
  {
   "cell_type": "code",
   "execution_count": 156,
   "metadata": {},
   "outputs": [],
   "source": [
    "import numpy as np\n",
    "import pandas as pd\n",
    "from keras.models import Sequential\n",
    "from keras.layers.recurrent import LSTM\n",
    "from keras.layers.core import Dense, Activation, Dropout\n",
    "import matplotlib.pyplot as plt\n",
    "\n",
    "def load_lstm_data(csv_file,target_index,target_value):\n",
    "    data_b = pd.read_csv(csv_file,   parse_dates=[target_index])\n",
    "    data = data_b[target_value].values\n",
    "    return data\n",
    "\n",
    "\n",
    "def normalize_lstm(result):\n",
    "    result_mean = result.mean()\n",
    "    result_std = result.std()\n",
    "    result -= result_mean\n",
    "    result /= result_std\n",
    "    return result, result_mean\n",
    "\n",
    "\n",
    "def prepare_lstm_data(data,test_size, sequence_length,is_normalized):\n",
    "    print(\"Length of Data\", len(data))\n",
    "\n",
    "    train_start = 0\n",
    "    train_end = (int)((len(data) * (1 - test_size)) - 1)\n",
    "    test_start = 786  # train_end + 1\n",
    "    test_end = 981  # len(data) - 1\n",
    "\n",
    "    temp = []\n",
    "    for index in range(train_start, train_end - sequence_length):\n",
    "        temp.append(data[index: index + sequence_length])\n",
    "    temp = np.array(temp)\n",
    "    if is_normalized == True:\n",
    "        temp, temp_mean = normalize_lstm(temp)\n",
    "\n",
    "    train = temp[train_start:train_end, :]\n",
    "    np.random.shuffle(train)\n",
    "    X_train = train[:, :-1]\n",
    "    y_train = train[:, -1]\n",
    "\n",
    "\n",
    "    # test data\n",
    "    print(\"Creating test data...\")\n",
    "\n",
    "    temp = []\n",
    "    for index in range(test_start, test_end - sequence_length):\n",
    "        temp.append(data[index: index + sequence_length])\n",
    "    temp = np.array(temp)\n",
    "    if is_normalized == True:\n",
    "        temp, temp_mean = normalize_lstm(temp)\n",
    "\n",
    "    X_test = temp[:, :-1]\n",
    "    y_test = temp[:, -1]\n",
    "\n",
    "\n",
    "    X_train = np.reshape(X_train, (X_train.shape[0], X_train.shape[1], 1))\n",
    "    X_test = np.reshape(X_test, (X_test.shape[0], X_test.shape[1], 1))\n",
    "\n",
    "    return X_train, y_train, X_test, y_test\n",
    "\n",
    "\n",
    "\n",
    "def generate_lstm_model(sequence_length, loss, optimizer, metrics):\n",
    "    model = Sequential()\n",
    "\n",
    "    # First LSTM layer defining the input sequence length\n",
    "    model.add(LSTM(input_shape=(sequence_length - 1, 1),\n",
    "                   units=32,\n",
    "                   return_sequences=True))\n",
    "    model.add(Dropout(0.2))\n",
    "\n",
    "    # Second LSTM layer with 128 units\n",
    "    model.add(LSTM(units=128,\n",
    "                   return_sequences=True))\n",
    "    model.add(Dropout(0.2))\n",
    "\n",
    "    # Second LSTM layer with 128 units\n",
    "    model.add(LSTM(units=128,\n",
    "                   return_sequences=True))\n",
    "    model.add(Dropout(0.2))\n",
    "\n",
    "    # Third LSTM layer with 100 units\n",
    "    model.add(LSTM(units=100,\n",
    "                   return_sequences=False))\n",
    "    model.add(Dropout(0.2))\n",
    "\n",
    "    # Densely-connected output layer with the linear activation function\n",
    "    model.add(Dense(units=1))\n",
    "    model.add(Activation('linear')) #sigmoid\n",
    "\n",
    "    model.compile(loss=loss, optimizer=optimizer, metrics=metrics)\n",
    "\n",
    "    return model\n",
    "\n",
    "def fit_lstm(model,X_train, y_train, batch_size, epochs, validation_split):\n",
    "    X_train = np.array(X_train)\n",
    "    y_train = np.array(y_train)\n",
    "    history = model.fit(\n",
    "        X_train, y_train,verbose=1,\n",
    "        batch_size=batch_size, epochs=epochs, validation_split=validation_split)\n",
    "    return history\n",
    "\n",
    "def predict_lstm(model, set_values_toPredict):\n",
    "    predicted = model.predict(set_values_toPredict)\n",
    "    print(\"Reshaping predicted\")\n",
    "    predicted = np.reshape(predicted, (predicted.size,))\n",
    "    return predicted\n",
    "\n",
    "def plot_lstm_result(y_test, predicted):\n",
    "    try:\n",
    "        plt.figure(figsize=(20, 8))\n",
    "        plt.plot(y_test[:len(y_test)], 'b', label='Observed')\n",
    "        plt.plot(predicted[:len(y_test)], 'g', label='Predicted')\n",
    "        #plt.plot(((y_test - predicted) ** 2), 'r', label='Root-mean-square deviation')\n",
    "        plt.legend()\n",
    "        plt.show()\n",
    "    except Exception as e:\n",
    "        print(\"plotting exception\")\n",
    "        print(str(e))"
   ]
  },
  {
   "cell_type": "markdown",
   "metadata": {},
   "source": [
    "Following this, we define a set of variables, used during the LSTM creation and run, and load the dataset, to be analyzed."
   ]
  },
  {
   "cell_type": "code",
   "execution_count": 157,
   "metadata": {},
   "outputs": [],
   "source": [
    "sequence_length = 10\n",
    "epochs = 30\n",
    "batch_size = 100\n",
    "validation_split = 0.05\n",
    "loss = 'mean_squared_error'\n",
    "optimizer = 'adam'\n",
    "metrics = ['mean_squared_error']\n",
    "\n",
    "data = load_lstm_data(csv_file, 0, \"Bearing1\")"
   ]
  },
  {
   "cell_type": "markdown",
   "metadata": {},
   "source": [
    "The next step is cleaning the dataset, preparing it to be consumed by the LSTM engine. Perceive that we define does not normalize the dataset."
   ]
  },
  {
   "cell_type": "code",
   "execution_count": 158,
   "metadata": {},
   "outputs": [
    {
     "name": "stdout",
     "output_type": "stream",
     "text": [
      "Length of Data 982\n",
      "Creating test data...\n"
     ]
    }
   ],
   "source": [
    "X_train, y_train, X_test, y_test = prepare_lstm_data(data, 0.2, sequence_length, False)"
   ]
  },
  {
   "cell_type": "markdown",
   "metadata": {},
   "source": [
    "Now, we are ready to generate the LSTM model."
   ]
  },
  {
   "cell_type": "code",
   "execution_count": 159,
   "metadata": {},
   "outputs": [],
   "source": [
    "lstm_model = generate_lstm_model(sequence_length, loss, optimizer, metrics)"
   ]
  },
  {
   "cell_type": "markdown",
   "metadata": {},
   "source": [
    "As the model ready; following, we will fit the model, calculating the time and CPU consume to realize this task."
   ]
  },
  {
   "cell_type": "code",
   "execution_count": 160,
   "metadata": {},
   "outputs": [
    {
     "name": "stdout",
     "output_type": "stream",
     "text": [
      "Epoch 1/30\n",
      "8/8 [==============================] - 2s 195ms/step - loss: 0.0014 - mean_squared_error: 0.0014 - val_loss: 8.8550e-05 - val_mean_squared_error: 8.8550e-05\n",
      "Epoch 2/30\n",
      "8/8 [==============================] - 0s 25ms/step - loss: 3.1528e-04 - mean_squared_error: 3.1528e-04 - val_loss: 1.4129e-04 - val_mean_squared_error: 1.4129e-04\n",
      "Epoch 3/30\n",
      "8/8 [==============================] - 0s 24ms/step - loss: 2.4483e-04 - mean_squared_error: 2.4483e-04 - val_loss: 6.5928e-05 - val_mean_squared_error: 6.5928e-05\n",
      "Epoch 4/30\n",
      "8/8 [==============================] - 0s 25ms/step - loss: 2.2778e-04 - mean_squared_error: 2.2778e-04 - val_loss: 7.8591e-05 - val_mean_squared_error: 7.8591e-05\n",
      "Epoch 5/30\n",
      "8/8 [==============================] - 0s 25ms/step - loss: 1.9340e-04 - mean_squared_error: 1.9340e-04 - val_loss: 7.3913e-05 - val_mean_squared_error: 7.3913e-05\n",
      "Epoch 6/30\n",
      "8/8 [==============================] - 0s 24ms/step - loss: 1.8852e-04 - mean_squared_error: 1.8852e-04 - val_loss: 6.7400e-05 - val_mean_squared_error: 6.7400e-05\n",
      "Epoch 7/30\n",
      "8/8 [==============================] - 0s 25ms/step - loss: 1.8476e-04 - mean_squared_error: 1.8476e-04 - val_loss: 6.0708e-05 - val_mean_squared_error: 6.0708e-05\n",
      "Epoch 8/30\n",
      "8/8 [==============================] - 0s 25ms/step - loss: 1.6923e-04 - mean_squared_error: 1.6923e-04 - val_loss: 7.2326e-05 - val_mean_squared_error: 7.2326e-05\n",
      "Epoch 9/30\n",
      "8/8 [==============================] - 0s 25ms/step - loss: 1.4660e-04 - mean_squared_error: 1.4660e-04 - val_loss: 4.0312e-05 - val_mean_squared_error: 4.0312e-05\n",
      "Epoch 10/30\n",
      "8/8 [==============================] - 0s 25ms/step - loss: 1.1486e-04 - mean_squared_error: 1.1486e-04 - val_loss: 2.3400e-05 - val_mean_squared_error: 2.3400e-05\n",
      "Epoch 11/30\n",
      "8/8 [==============================] - 0s 27ms/step - loss: 6.3483e-05 - mean_squared_error: 6.3483e-05 - val_loss: 1.9184e-05 - val_mean_squared_error: 1.9184e-05\n",
      "Epoch 12/30\n",
      "8/8 [==============================] - 0s 25ms/step - loss: 4.2734e-05 - mean_squared_error: 4.2734e-05 - val_loss: 4.0967e-06 - val_mean_squared_error: 4.0967e-06\n",
      "Epoch 13/30\n",
      "8/8 [==============================] - 0s 25ms/step - loss: 3.7244e-05 - mean_squared_error: 3.7244e-05 - val_loss: 5.9321e-06 - val_mean_squared_error: 5.9321e-06\n",
      "Epoch 14/30\n",
      "8/8 [==============================] - 0s 27ms/step - loss: 3.7737e-05 - mean_squared_error: 3.7737e-05 - val_loss: 9.2840e-06 - val_mean_squared_error: 9.2840e-06\n",
      "Epoch 15/30\n",
      "8/8 [==============================] - 0s 24ms/step - loss: 3.9254e-05 - mean_squared_error: 3.9254e-05 - val_loss: 3.3132e-06 - val_mean_squared_error: 3.3132e-06\n",
      "Epoch 16/30\n",
      "8/8 [==============================] - 0s 24ms/step - loss: 3.2852e-05 - mean_squared_error: 3.2852e-05 - val_loss: 1.4024e-05 - val_mean_squared_error: 1.4024e-05\n",
      "Epoch 17/30\n",
      "8/8 [==============================] - 0s 24ms/step - loss: 3.6836e-05 - mean_squared_error: 3.6836e-05 - val_loss: 1.3774e-05 - val_mean_squared_error: 1.3774e-05\n",
      "Epoch 18/30\n",
      "8/8 [==============================] - 0s 24ms/step - loss: 3.1014e-05 - mean_squared_error: 3.1014e-05 - val_loss: 7.5954e-06 - val_mean_squared_error: 7.5954e-06\n",
      "Epoch 19/30\n",
      "8/8 [==============================] - 0s 24ms/step - loss: 3.1144e-05 - mean_squared_error: 3.1144e-05 - val_loss: 4.1434e-06 - val_mean_squared_error: 4.1434e-06\n",
      "Epoch 20/30\n",
      "8/8 [==============================] - 0s 24ms/step - loss: 2.9357e-05 - mean_squared_error: 2.9357e-05 - val_loss: 4.7715e-06 - val_mean_squared_error: 4.7715e-06\n",
      "Epoch 21/30\n",
      "8/8 [==============================] - 0s 24ms/step - loss: 2.6626e-05 - mean_squared_error: 2.6626e-05 - val_loss: 8.1085e-07 - val_mean_squared_error: 8.1085e-07\n",
      "Epoch 22/30\n",
      "8/8 [==============================] - 0s 24ms/step - loss: 2.9245e-05 - mean_squared_error: 2.9245e-05 - val_loss: 8.3249e-06 - val_mean_squared_error: 8.3249e-06\n",
      "Epoch 23/30\n",
      "8/8 [==============================] - 0s 24ms/step - loss: 3.4204e-05 - mean_squared_error: 3.4204e-05 - val_loss: 3.6690e-06 - val_mean_squared_error: 3.6690e-06\n",
      "Epoch 24/30\n",
      "8/8 [==============================] - 0s 24ms/step - loss: 2.8365e-05 - mean_squared_error: 2.8365e-05 - val_loss: 2.4664e-06 - val_mean_squared_error: 2.4664e-06\n",
      "Epoch 25/30\n",
      "8/8 [==============================] - 0s 32ms/step - loss: 2.7205e-05 - mean_squared_error: 2.7205e-05 - val_loss: 2.1573e-06 - val_mean_squared_error: 2.1573e-06\n",
      "Epoch 26/30\n",
      "8/8 [==============================] - 0s 31ms/step - loss: 2.4566e-05 - mean_squared_error: 2.4566e-05 - val_loss: 2.2265e-06 - val_mean_squared_error: 2.2265e-06\n",
      "Epoch 27/30\n",
      "8/8 [==============================] - 0s 36ms/step - loss: 2.7357e-05 - mean_squared_error: 2.7357e-05 - val_loss: 1.0854e-05 - val_mean_squared_error: 1.0854e-05\n",
      "Epoch 28/30\n",
      "8/8 [==============================] - 0s 36ms/step - loss: 3.1207e-05 - mean_squared_error: 3.1207e-05 - val_loss: 6.6125e-06 - val_mean_squared_error: 6.6125e-06\n",
      "Epoch 29/30\n",
      "8/8 [==============================] - 0s 29ms/step - loss: 2.9300e-05 - mean_squared_error: 2.9300e-05 - val_loss: 3.7622e-06 - val_mean_squared_error: 3.7622e-06\n",
      "Epoch 30/30\n",
      "8/8 [==============================] - 0s 27ms/step - loss: 2.4002e-05 - mean_squared_error: 2.4002e-05 - val_loss: 2.0045e-06 - val_mean_squared_error: 2.0045e-06\n"
     ]
    }
   ],
   "source": [
    "t0 = times.time()\n",
    "cpu_t0 = psutil.cpu_percent(interval=0.5)\n",
    "history = fit_lstm(lstm_model, X_train, y_train, batch_size, epochs, validation_split)\n",
    "t1 = times.time()\n",
    "cpu_t1 = psutil.cpu_percent(interval=0.5)"
   ]
  },
  {
   "cell_type": "markdown",
   "metadata": {},
   "source": [
    "To support the answer to question 2, we save the training (lstm_train_t) and CPU consumption (lstm_cpu_train_perc)."
   ]
  },
  {
   "cell_type": "code",
   "execution_count": 161,
   "metadata": {},
   "outputs": [],
   "source": [
    "lstm_train_t = t1 - t0\n",
    "lstm_cpu_train_perc = abs(cpu_t1 - cpu_t0)"
   ]
  },
  {
   "cell_type": "markdown",
   "metadata": {},
   "source": [
    "Follow this; we will predict some samples to model's evaluation."
   ]
  },
  {
   "cell_type": "code",
   "execution_count": 162,
   "metadata": {},
   "outputs": [
    {
     "name": "stdout",
     "output_type": "stream",
     "text": [
      "Reshaping predicted\n"
     ]
    }
   ],
   "source": [
    "t0 = times.time()\n",
    "cpu_t0 = psutil.cpu_percent(interval=0.5)\n",
    "lstm_pred = predict_lstm(lstm_model, X_test)\n",
    "t1 = times.time()\n",
    "cpu_t1 = psutil.cpu_percent(interval=0.5)"
   ]
  },
  {
   "cell_type": "markdown",
   "metadata": {},
   "source": [
    "Finally, we calculate the CPU consume and time to predict phase and plot the result of predictions."
   ]
  },
  {
   "cell_type": "code",
   "execution_count": 163,
   "metadata": {},
   "outputs": [
    {
     "data": {
      "image/png": "[encoded data removed]",
      "text/plain": [
       "<Figure size 1440x576 with 1 Axes>"
      ]
     },
     "metadata": {
      "needs_background": "light"
     },
     "output_type": "display_data"
    }
   ],
   "source": [
    "lstm_pred_t = t1 - t0\n",
    "lstm_cpu_pred_perc = abs(cpu_t1 - cpu_t0)\n",
    "plot_lstm_result(y_test, lstm_pred)"
   ]
  },
  {
   "cell_type": "markdown",
   "metadata": {},
   "source": [
    "# Question 2 - Compare the performance (time and CPU consumption) during the training and the predictions performed by the two models (ARIMA and ANN) (30 points)."
   ]
  },
  {
   "cell_type": "markdown",
   "metadata": {},
   "source": [
    "To compare the models performance, we will plot the CPU consumption and time using a bar chart."
   ]
  },
  {
   "cell_type": "code",
   "execution_count": 164,
   "metadata": {},
   "outputs": [],
   "source": [
    "def plot_bar(x,y, title):\n",
    "    plt.bar(x, y, color=['firebrick', 'green', 'blue', 'black'])\n",
    "    plt.xlabel('Categories')\n",
    "    plt.ylabel(\"Values\")\n",
    "    plt.title(title)\n",
    "    plt.show()"
   ]
  },
  {
   "cell_type": "code",
   "execution_count": 165,
   "metadata": {},
   "outputs": [
    {
     "data": {
      "image/png": "[encoded data removed]",
      "text/plain": [
       "<Figure size 432x288 with 1 Axes>"
      ]
     },
     "metadata": {
      "needs_background": "light"
     },
     "output_type": "display_data"
    }
   ],
   "source": [
    "label = [\"AR_TRAIN\", \"AR-PRED\", \"LSTM-TRAIN\", \"LSTM-PRED\"]\n",
    "time = [arima_train_t, arima_pred_t, lstm_train_t, lstm_pred_t]\n",
    "plot_bar(label,time,\"TIME EVALUATION\")"
   ]
  },
  {
   "cell_type": "code",
   "execution_count": 166,
   "metadata": {},
   "outputs": [
    {
     "data": {
      "image/png": "[encoded data removed]",
      "text/plain": [
       "<Figure size 432x288 with 1 Axes>"
      ]
     },
     "metadata": {
      "needs_background": "light"
     },
     "output_type": "display_data"
    }
   ],
   "source": [
    "cpu = [ar_cpu_train_perc, arima_cpu_pred_perc, lstm_cpu_train_perc , lstm_cpu_pred_perc ]\n",
    "plot_bar(label, cpu, \"CPU EVALUATION\")"
   ]
  },
  {
   "cell_type": "markdown",
   "metadata": {},
   "source": [
    "# Question 3 - Measure and compare the accuracy (minimum loss error function) performed by both models (30 points)."
   ]
  },
  {
   "cell_type": "markdown",
   "metadata": {},
   "source": [
    "To evaluate the error, we will use the Root Mean Squared Error (RMSE). In our case, we calculate the rmse to ARIMA and LSTM, and the best result is the smallest one.\n",
    "\n",
    "source=https://www.relataly.com/measuring-prediction-errors-in-time-series-forecasting/809/"
   ]
  },
  {
   "cell_type": "markdown",
   "metadata": {},
   "source": [
    "We define a new function to calculate the RMSE."
   ]
  },
  {
   "cell_type": "code",
   "execution_count": 167,
   "metadata": {},
   "outputs": [],
   "source": [
    "def rmse(true_v, pred):\n",
    "    rmse = sqrt(mean_squared_error(true_v, pred))\n",
    "    return rmse"
   ]
  },
  {
   "cell_type": "code",
   "execution_count": 168,
   "metadata": {},
   "outputs": [
    {
     "name": "stdout",
     "output_type": "stream",
     "text": [
      "ARIMA RMSE: 0.03192506540752011\n",
      "LSTME RMSE:  0.030963274899332146\n"
     ]
    },
    {
     "data": {
      "image/png": "[encoded data removed]",
      "text/plain": [
       "<Figure size 432x288 with 1 Axes>"
      ]
     },
     "metadata": {
      "needs_background": "light"
     },
     "output_type": "display_data"
    }
   ],
   "source": [
    "rmse_arima = rmse(arima_y_test, arima_pred)\n",
    "print('ARIMA RMSE:',rmse_arima)\n",
    "\n",
    "rmse_lstm = rmse(y_test, lstm_pred)\n",
    "print('LSTME RMSE: ',rmse_lstm)\n",
    "\n",
    "rmse_v=[rmse_arima,rmse_lstm]\n",
    "label = [\"AR RSME\", \"LSTM RSME\"]\n",
    "plot_bar(label,rmse_v, 'ROOT MEAN SQUARE EVALUATION')"
   ]
  },
  {
   "cell_type": "markdown",
   "metadata": {},
   "source": [
    "Analyzing the previous chart, we can see that both models have a similar error. However, when you analyze the CPU consumption and time chart, we can conclude, despite the high time consumption of LSTM during training, in the general, it presents better cost-benefit results.  \n",
    "\n",
    "\n",
    "**Observation: I suggest that you try to run the shared code using PyCharm editor. The performance using the IDE is completely different.\n",
    "\n"
   ]
  },
  {
   "cell_type": "markdown",
   "metadata": {},
   "source": [
    "# Question 4 - Read the following paper and use one or more technics to decrease the neural network implementation error.  Submit the new code (separated from the previous one) and cite which technic(s) you used to improve the performance and what was more effective (10 points)."
   ]
  },
  {
   "cell_type": "markdown",
   "metadata": {},
   "source": [
    "Following the reference link and the shared course support material, we define to change the normalization , the batch size, and number of epochs.\n",
    "We will perform 4 experiences:\n",
    "\n",
    "- experiment 1: normalization = false, epochs = 30, and batch_size = 100\n",
    "- experiment 2: normalization = true, epochs = 30, and batch_size = 100\n",
    "- experiment 3: normalization = false, epochs = 50, and batch_size = 100\n",
    "- experiment 4: normalization = true, epochs = 50, and batch_size = 40"
   ]
  },
  {
   "cell_type": "markdown",
   "metadata": {},
   "source": [
    "### Experiment 1"
   ]
  },
  {
   "cell_type": "code",
   "execution_count": 170,
   "metadata": {},
   "outputs": [
    {
     "name": "stdout",
     "output_type": "stream",
     "text": [
      "Length of Data 982\n",
      "Creating test data...\n",
      "Epoch 1/30\n",
      "8/8 [==============================] - 2s 198ms/step - loss: 0.0015 - mean_squared_error: 0.0015 - val_loss: 1.8315e-04 - val_mean_squared_error: 1.8315e-04\n",
      "Epoch 2/30\n",
      "8/8 [==============================] - 0s 34ms/step - loss: 3.3023e-04 - mean_squared_error: 3.3023e-04 - val_loss: 1.7749e-04 - val_mean_squared_error: 1.7749e-04\n",
      "Epoch 3/30\n",
      "8/8 [==============================] - 0s 37ms/step - loss: 2.4972e-04 - mean_squared_error: 2.4972e-04 - val_loss: 1.7197e-04 - val_mean_squared_error: 1.7197e-04\n",
      "Epoch 4/30\n",
      "8/8 [==============================] - 0s 27ms/step - loss: 2.1079e-04 - mean_squared_error: 2.1079e-04 - val_loss: 1.6679e-04 - val_mean_squared_error: 1.6679e-04\n",
      "Epoch 5/30\n",
      "8/8 [==============================] - 0s 27ms/step - loss: 2.0748e-04 - mean_squared_error: 2.0748e-04 - val_loss: 1.6501e-04 - val_mean_squared_error: 1.6501e-04\n",
      "Epoch 6/30\n",
      "8/8 [==============================] - 0s 26ms/step - loss: 2.0049e-04 - mean_squared_error: 2.0049e-04 - val_loss: 1.6228e-04 - val_mean_squared_error: 1.6228e-04\n",
      "Epoch 7/30\n",
      "8/8 [==============================] - 0s 26ms/step - loss: 1.9004e-04 - mean_squared_error: 1.9004e-04 - val_loss: 1.5553e-04 - val_mean_squared_error: 1.5553e-04\n",
      "Epoch 8/30\n",
      "8/8 [==============================] - 0s 26ms/step - loss: 1.7966e-04 - mean_squared_error: 1.7966e-04 - val_loss: 1.4658e-04 - val_mean_squared_error: 1.4658e-04\n",
      "Epoch 9/30\n",
      "8/8 [==============================] - 0s 26ms/step - loss: 1.7161e-04 - mean_squared_error: 1.7161e-04 - val_loss: 1.3137e-04 - val_mean_squared_error: 1.3137e-04\n",
      "Epoch 10/30\n",
      "8/8 [==============================] - 0s 25ms/step - loss: 1.4647e-04 - mean_squared_error: 1.4647e-04 - val_loss: 1.0661e-04 - val_mean_squared_error: 1.0661e-04\n",
      "Epoch 11/30\n",
      "8/8 [==============================] - 0s 26ms/step - loss: 1.1542e-04 - mean_squared_error: 1.1542e-04 - val_loss: 7.7705e-05 - val_mean_squared_error: 7.7705e-05\n",
      "Epoch 12/30\n",
      "8/8 [==============================] - 0s 27ms/step - loss: 7.0624e-05 - mean_squared_error: 7.0624e-05 - val_loss: 3.0366e-05 - val_mean_squared_error: 3.0366e-05\n",
      "Epoch 13/30\n",
      "8/8 [==============================] - 0s 26ms/step - loss: 4.1350e-05 - mean_squared_error: 4.1350e-05 - val_loss: 1.0297e-04 - val_mean_squared_error: 1.0297e-04\n",
      "Epoch 14/30\n",
      "8/8 [==============================] - 0s 26ms/step - loss: 5.9837e-05 - mean_squared_error: 5.9837e-05 - val_loss: 1.3574e-05 - val_mean_squared_error: 1.3574e-05\n",
      "Epoch 15/30\n",
      "8/8 [==============================] - 0s 26ms/step - loss: 3.9212e-05 - mean_squared_error: 3.9212e-05 - val_loss: 9.1580e-06 - val_mean_squared_error: 9.1580e-06\n",
      "Epoch 16/30\n",
      "8/8 [==============================] - 0s 26ms/step - loss: 3.1540e-05 - mean_squared_error: 3.1540e-05 - val_loss: 1.3542e-06 - val_mean_squared_error: 1.3542e-06\n",
      "Epoch 17/30\n",
      "8/8 [==============================] - 0s 26ms/step - loss: 3.3958e-05 - mean_squared_error: 3.3958e-05 - val_loss: 1.2301e-05 - val_mean_squared_error: 1.2301e-05\n",
      "Epoch 18/30\n",
      "8/8 [==============================] - 0s 26ms/step - loss: 3.5176e-05 - mean_squared_error: 3.5176e-05 - val_loss: 1.6975e-05 - val_mean_squared_error: 1.6975e-05\n",
      "Epoch 19/30\n",
      "8/8 [==============================] - 0s 26ms/step - loss: 3.2868e-05 - mean_squared_error: 3.2868e-05 - val_loss: 3.7794e-06 - val_mean_squared_error: 3.7794e-06\n",
      "Epoch 20/30\n",
      "8/8 [==============================] - 0s 26ms/step - loss: 2.7363e-05 - mean_squared_error: 2.7363e-05 - val_loss: 9.0237e-06 - val_mean_squared_error: 9.0237e-06\n",
      "Epoch 21/30\n",
      "8/8 [==============================] - 0s 26ms/step - loss: 3.2386e-05 - mean_squared_error: 3.2386e-05 - val_loss: 5.3635e-06 - val_mean_squared_error: 5.3635e-06\n",
      "Epoch 22/30\n",
      "8/8 [==============================] - 0s 25ms/step - loss: 2.9511e-05 - mean_squared_error: 2.9511e-05 - val_loss: 4.6273e-06 - val_mean_squared_error: 4.6273e-06\n",
      "Epoch 23/30\n",
      "8/8 [==============================] - 0s 25ms/step - loss: 3.2814e-05 - mean_squared_error: 3.2814e-05 - val_loss: 2.8340e-06 - val_mean_squared_error: 2.8340e-06\n",
      "Epoch 24/30\n",
      "8/8 [==============================] - 0s 26ms/step - loss: 2.7931e-05 - mean_squared_error: 2.7931e-05 - val_loss: 3.1106e-06 - val_mean_squared_error: 3.1106e-06\n",
      "Epoch 25/30\n",
      "8/8 [==============================] - 0s 26ms/step - loss: 2.6527e-05 - mean_squared_error: 2.6527e-05 - val_loss: 1.2613e-06 - val_mean_squared_error: 1.2613e-06\n",
      "Epoch 26/30\n",
      "8/8 [==============================] - 0s 26ms/step - loss: 2.7647e-05 - mean_squared_error: 2.7647e-05 - val_loss: 2.6259e-06 - val_mean_squared_error: 2.6259e-06\n",
      "Epoch 27/30\n",
      "8/8 [==============================] - 0s 27ms/step - loss: 3.0114e-05 - mean_squared_error: 3.0114e-05 - val_loss: 3.2200e-06 - val_mean_squared_error: 3.2200e-06\n",
      "Epoch 28/30\n",
      "8/8 [==============================] - 0s 26ms/step - loss: 3.0495e-05 - mean_squared_error: 3.0495e-05 - val_loss: 5.2966e-06 - val_mean_squared_error: 5.2966e-06\n",
      "Epoch 29/30\n",
      "8/8 [==============================] - 0s 26ms/step - loss: 3.0226e-05 - mean_squared_error: 3.0226e-05 - val_loss: 1.2251e-05 - val_mean_squared_error: 1.2251e-05\n",
      "Epoch 30/30\n",
      "8/8 [==============================] - 0s 26ms/step - loss: 2.6957e-05 - mean_squared_error: 2.6957e-05 - val_loss: 9.2608e-06 - val_mean_squared_error: 9.2608e-06\n",
      "Reshaping predicted\n"
     ]
    }
   ],
   "source": [
    "sequence_length = 10\n",
    "epochs = 30\n",
    "batch_size = 100\n",
    "validation_split = 0.05\n",
    "loss = 'mean_squared_error'\n",
    "optimizer = 'adam'\n",
    "metrics = ['mean_squared_error']\n",
    "\n",
    "data = load_lstm_data(csv_file, 0, \"Bearing1\")\n",
    "X_train, y_train, X_test, y_test = prepare_lstm_data(data, 0.2, sequence_length, False)\n",
    "lstm_model = generate_lstm_model(sequence_length, loss, optimizer, metrics)\n",
    "\n",
    "t0 = times.time()\n",
    "cpu_t0 = psutil.cpu_percent(interval=0.5)\n",
    "history = fit_lstm(lstm_model, X_train, y_train, batch_size, epochs, validation_split)\n",
    "t1 = times.time()\n",
    "cpu_t1 = psutil.cpu_percent(interval=0.5)\n",
    "\n",
    "exp1_train_t = t1 - t0\n",
    "exp1_cpu_train = abs(cpu_t1 - cpu_t0)\n",
    "\n",
    "t0 = times.time()\n",
    "cpu_t0 = psutil.cpu_percent(interval=0.5)\n",
    "lstm_pred = predict_lstm(lstm_model, X_test)\n",
    "t1 = times.time()\n",
    "cpu_t1 = psutil.cpu_percent(interval=0.5)\n",
    "\n",
    "exp1_pred_t = t1 - t0\n",
    "exp1_cpu_pred = abs(cpu_t1 - cpu_t0)\n",
    "\n",
    "exp1_rmse_lstm = rmse(y_test, lstm_pred)"
   ]
  },
  {
   "cell_type": "markdown",
   "metadata": {},
   "source": [
    "### Experiment 2"
   ]
  },
  {
   "cell_type": "code",
   "execution_count": 171,
   "metadata": {},
   "outputs": [
    {
     "name": "stdout",
     "output_type": "stream",
     "text": [
      "Length of Data 982\n",
      "Creating test data...\n",
      "Epoch 1/30\n",
      "8/8 [==============================] - 2s 190ms/step - loss: 0.6637 - mean_squared_error: 0.6637 - val_loss: 0.1223 - val_mean_squared_error: 0.1223\n",
      "Epoch 2/30\n",
      "8/8 [==============================] - 0s 26ms/step - loss: 0.1657 - mean_squared_error: 0.1657 - val_loss: 0.0710 - val_mean_squared_error: 0.0710\n",
      "Epoch 3/30\n",
      "8/8 [==============================] - 0s 26ms/step - loss: 0.1342 - mean_squared_error: 0.1342 - val_loss: 0.0450 - val_mean_squared_error: 0.0450\n",
      "Epoch 4/30\n",
      "8/8 [==============================] - 0s 26ms/step - loss: 0.1011 - mean_squared_error: 0.1011 - val_loss: 0.0411 - val_mean_squared_error: 0.0411\n",
      "Epoch 5/30\n",
      "8/8 [==============================] - 0s 26ms/step - loss: 0.0902 - mean_squared_error: 0.0902 - val_loss: 0.0266 - val_mean_squared_error: 0.0266\n",
      "Epoch 6/30\n",
      "8/8 [==============================] - 0s 26ms/step - loss: 0.0859 - mean_squared_error: 0.0859 - val_loss: 0.0556 - val_mean_squared_error: 0.0556\n",
      "Epoch 7/30\n",
      "8/8 [==============================] - 0s 26ms/step - loss: 0.0783 - mean_squared_error: 0.0783 - val_loss: 0.0277 - val_mean_squared_error: 0.0277\n",
      "Epoch 8/30\n",
      "8/8 [==============================] - 0s 26ms/step - loss: 0.0762 - mean_squared_error: 0.0762 - val_loss: 0.0469 - val_mean_squared_error: 0.0469\n",
      "Epoch 9/30\n",
      "8/8 [==============================] - 0s 26ms/step - loss: 0.0761 - mean_squared_error: 0.0761 - val_loss: 0.0284 - val_mean_squared_error: 0.0284\n",
      "Epoch 10/30\n",
      "8/8 [==============================] - 0s 26ms/step - loss: 0.0745 - mean_squared_error: 0.0745 - val_loss: 0.0255 - val_mean_squared_error: 0.0255\n",
      "Epoch 11/30\n",
      "8/8 [==============================] - 0s 26ms/step - loss: 0.0760 - mean_squared_error: 0.0760 - val_loss: 0.0323 - val_mean_squared_error: 0.0323\n",
      "Epoch 12/30\n",
      "8/8 [==============================] - 0s 26ms/step - loss: 0.0740 - mean_squared_error: 0.0740 - val_loss: 0.0213 - val_mean_squared_error: 0.0213\n",
      "Epoch 13/30\n",
      "8/8 [==============================] - 0s 27ms/step - loss: 0.0750 - mean_squared_error: 0.0750 - val_loss: 0.0279 - val_mean_squared_error: 0.0279\n",
      "Epoch 14/30\n",
      "8/8 [==============================] - 0s 27ms/step - loss: 0.0702 - mean_squared_error: 0.0702 - val_loss: 0.0203 - val_mean_squared_error: 0.0203\n",
      "Epoch 15/30\n",
      "8/8 [==============================] - 0s 26ms/step - loss: 0.0690 - mean_squared_error: 0.0690 - val_loss: 0.0419 - val_mean_squared_error: 0.0419\n",
      "Epoch 16/30\n",
      "8/8 [==============================] - 0s 26ms/step - loss: 0.0780 - mean_squared_error: 0.0780 - val_loss: 0.0187 - val_mean_squared_error: 0.0187\n",
      "Epoch 17/30\n",
      "8/8 [==============================] - 0s 27ms/step - loss: 0.0723 - mean_squared_error: 0.0723 - val_loss: 0.0201 - val_mean_squared_error: 0.0201\n",
      "Epoch 18/30\n",
      "8/8 [==============================] - 0s 26ms/step - loss: 0.0679 - mean_squared_error: 0.0679 - val_loss: 0.0395 - val_mean_squared_error: 0.0395\n",
      "Epoch 19/30\n",
      "8/8 [==============================] - 0s 27ms/step - loss: 0.0725 - mean_squared_error: 0.0725 - val_loss: 0.0190 - val_mean_squared_error: 0.0190\n",
      "Epoch 20/30\n",
      "8/8 [==============================] - 0s 27ms/step - loss: 0.0741 - mean_squared_error: 0.0741 - val_loss: 0.0199 - val_mean_squared_error: 0.0199\n",
      "Epoch 21/30\n",
      "8/8 [==============================] - 0s 32ms/step - loss: 0.0642 - mean_squared_error: 0.0642 - val_loss: 0.0524 - val_mean_squared_error: 0.0524\n",
      "Epoch 22/30\n",
      "8/8 [==============================] - 0s 27ms/step - loss: 0.0704 - mean_squared_error: 0.0704 - val_loss: 0.0185 - val_mean_squared_error: 0.0185\n",
      "Epoch 23/30\n",
      "8/8 [==============================] - 0s 35ms/step - loss: 0.0659 - mean_squared_error: 0.0659 - val_loss: 0.0150 - val_mean_squared_error: 0.0150\n",
      "Epoch 24/30\n",
      "8/8 [==============================] - 0s 34ms/step - loss: 0.0670 - mean_squared_error: 0.0670 - val_loss: 0.0855 - val_mean_squared_error: 0.0855\n",
      "Epoch 25/30\n",
      "8/8 [==============================] - 0s 32ms/step - loss: 0.0862 - mean_squared_error: 0.0862 - val_loss: 0.0169 - val_mean_squared_error: 0.0169\n",
      "Epoch 26/30\n",
      "8/8 [==============================] - 0s 30ms/step - loss: 0.0770 - mean_squared_error: 0.0770 - val_loss: 0.0191 - val_mean_squared_error: 0.0191\n",
      "Epoch 27/30\n",
      "8/8 [==============================] - 0s 36ms/step - loss: 0.0598 - mean_squared_error: 0.0598 - val_loss: 0.0219 - val_mean_squared_error: 0.0219\n",
      "Epoch 28/30\n",
      "8/8 [==============================] - 0s 34ms/step - loss: 0.0527 - mean_squared_error: 0.0527 - val_loss: 0.0155 - val_mean_squared_error: 0.0155\n",
      "Epoch 29/30\n",
      "8/8 [==============================] - 0s 35ms/step - loss: 0.0567 - mean_squared_error: 0.0567 - val_loss: 0.0222 - val_mean_squared_error: 0.0222\n",
      "Epoch 30/30\n",
      "8/8 [==============================] - 0s 43ms/step - loss: 0.0504 - mean_squared_error: 0.0504 - val_loss: 0.0121 - val_mean_squared_error: 0.0121\n",
      "Reshaping predicted\n"
     ]
    }
   ],
   "source": [
    "sequence_length = 10\n",
    "epochs = 30\n",
    "batch_size = 100\n",
    "validation_split = 0.05\n",
    "loss = 'mean_squared_error'\n",
    "optimizer = 'adam'\n",
    "metrics = ['mean_squared_error']\n",
    "\n",
    "data = load_lstm_data(csv_file, 0, \"Bearing1\")\n",
    "X_train, y_train, X_test, y_test = prepare_lstm_data(data, 0.2, sequence_length, True)\n",
    "lstm_model = generate_lstm_model(sequence_length, loss, optimizer, metrics)\n",
    "\n",
    "t0 = times.time()\n",
    "cpu_t0 = psutil.cpu_percent(interval=0.5)\n",
    "history = fit_lstm(lstm_model, X_train, y_train, batch_size, epochs, validation_split)\n",
    "t1 = times.time()\n",
    "cpu_t1 = psutil.cpu_percent(interval=0.5)\n",
    "\n",
    "exp2_train_t = t1 - t0\n",
    "exp2_cpu_train = abs(cpu_t1 - cpu_t0)\n",
    "\n",
    "t0 = times.time()\n",
    "cpu_t0 = psutil.cpu_percent(interval=0.5)\n",
    "lstm_pred = predict_lstm(lstm_model, X_test)\n",
    "t1 = times.time()\n",
    "cpu_t1 = psutil.cpu_percent(interval=0.5)\n",
    "\n",
    "exp2_pred_t = t1 - t0\n",
    "exp2_cpu_pred = abs(cpu_t1 - cpu_t0)\n",
    "\n",
    "exp2_rmse_lstm = rmse(y_test, lstm_pred)"
   ]
  },
  {
   "cell_type": "markdown",
   "metadata": {},
   "source": [
    "### Experiment 3"
   ]
  },
  {
   "cell_type": "code",
   "execution_count": 172,
   "metadata": {},
   "outputs": [
    {
     "name": "stdout",
     "output_type": "stream",
     "text": [
      "Length of Data 982\n",
      "Creating test data...\n",
      "Epoch 1/50\n",
      "8/8 [==============================] - 2s 205ms/step - loss: 0.0016 - mean_squared_error: 0.0016 - val_loss: 3.6497e-04 - val_mean_squared_error: 3.6497e-04\n",
      "Epoch 2/50\n",
      "8/8 [==============================] - 0s 27ms/step - loss: 4.2118e-04 - mean_squared_error: 4.2118e-04 - val_loss: 2.9280e-04 - val_mean_squared_error: 2.9280e-04\n",
      "Epoch 3/50\n",
      "8/8 [==============================] - 0s 27ms/step - loss: 2.6428e-04 - mean_squared_error: 2.6428e-04 - val_loss: 3.0307e-04 - val_mean_squared_error: 3.0307e-04\n",
      "Epoch 4/50\n",
      "8/8 [==============================] - 0s 27ms/step - loss: 2.2466e-04 - mean_squared_error: 2.2466e-04 - val_loss: 3.3416e-04 - val_mean_squared_error: 3.3416e-04\n",
      "Epoch 5/50\n",
      "8/8 [==============================] - 0s 27ms/step - loss: 2.0366e-04 - mean_squared_error: 2.0366e-04 - val_loss: 2.8798e-04 - val_mean_squared_error: 2.8798e-04\n",
      "Epoch 6/50\n",
      "8/8 [==============================] - 0s 27ms/step - loss: 1.9459e-04 - mean_squared_error: 1.9459e-04 - val_loss: 3.2550e-04 - val_mean_squared_error: 3.2550e-04\n",
      "Epoch 7/50\n",
      "8/8 [==============================] - 0s 27ms/step - loss: 1.8937e-04 - mean_squared_error: 1.8937e-04 - val_loss: 2.8401e-04 - val_mean_squared_error: 2.8401e-04\n",
      "Epoch 8/50\n",
      "8/8 [==============================] - 0s 28ms/step - loss: 1.8797e-04 - mean_squared_error: 1.8797e-04 - val_loss: 2.9698e-04 - val_mean_squared_error: 2.9698e-04\n",
      "Epoch 9/50\n",
      "8/8 [==============================] - 0s 27ms/step - loss: 1.8523e-04 - mean_squared_error: 1.8523e-04 - val_loss: 2.7430e-04 - val_mean_squared_error: 2.7430e-04\n",
      "Epoch 10/50\n",
      "8/8 [==============================] - 0s 27ms/step - loss: 1.7766e-04 - mean_squared_error: 1.7766e-04 - val_loss: 2.9108e-04 - val_mean_squared_error: 2.9108e-04\n",
      "Epoch 11/50\n",
      "8/8 [==============================] - 0s 27ms/step - loss: 1.6785e-04 - mean_squared_error: 1.6785e-04 - val_loss: 2.4473e-04 - val_mean_squared_error: 2.4473e-04\n",
      "Epoch 12/50\n",
      "8/8 [==============================] - 0s 27ms/step - loss: 1.2911e-04 - mean_squared_error: 1.2911e-04 - val_loss: 2.0485e-04 - val_mean_squared_error: 2.0485e-04\n",
      "Epoch 13/50\n",
      "8/8 [==============================] - 0s 28ms/step - loss: 1.1339e-04 - mean_squared_error: 1.1339e-04 - val_loss: 1.4093e-04 - val_mean_squared_error: 1.4093e-04\n",
      "Epoch 14/50\n",
      "8/8 [==============================] - 0s 28ms/step - loss: 4.7451e-05 - mean_squared_error: 4.7451e-05 - val_loss: 9.3158e-05 - val_mean_squared_error: 9.3158e-05\n",
      "Epoch 15/50\n",
      "8/8 [==============================] - 0s 29ms/step - loss: 4.4642e-05 - mean_squared_error: 4.4642e-05 - val_loss: 7.0719e-05 - val_mean_squared_error: 7.0719e-05\n",
      "Epoch 16/50\n",
      "8/8 [==============================] - 0s 28ms/step - loss: 3.0373e-05 - mean_squared_error: 3.0373e-05 - val_loss: 1.0315e-04 - val_mean_squared_error: 1.0315e-04\n",
      "Epoch 17/50\n",
      "8/8 [==============================] - 0s 28ms/step - loss: 3.1460e-05 - mean_squared_error: 3.1460e-05 - val_loss: 7.5118e-05 - val_mean_squared_error: 7.5118e-05\n",
      "Epoch 18/50\n",
      "8/8 [==============================] - 0s 29ms/step - loss: 2.9538e-05 - mean_squared_error: 2.9538e-05 - val_loss: 8.7339e-05 - val_mean_squared_error: 8.7339e-05\n",
      "Epoch 19/50\n",
      "8/8 [==============================] - 0s 28ms/step - loss: 2.6618e-05 - mean_squared_error: 2.6618e-05 - val_loss: 6.5986e-05 - val_mean_squared_error: 6.5986e-05\n",
      "Epoch 20/50\n",
      "8/8 [==============================] - 0s 29ms/step - loss: 2.7563e-05 - mean_squared_error: 2.7563e-05 - val_loss: 7.7403e-05 - val_mean_squared_error: 7.7403e-05\n",
      "Epoch 21/50\n",
      "8/8 [==============================] - 0s 28ms/step - loss: 2.5426e-05 - mean_squared_error: 2.5426e-05 - val_loss: 6.7498e-05 - val_mean_squared_error: 6.7498e-05\n",
      "Epoch 22/50\n",
      "8/8 [==============================] - 0s 28ms/step - loss: 2.3672e-05 - mean_squared_error: 2.3672e-05 - val_loss: 7.1067e-05 - val_mean_squared_error: 7.1067e-05\n",
      "Epoch 23/50\n",
      "8/8 [==============================] - 0s 28ms/step - loss: 2.1863e-05 - mean_squared_error: 2.1863e-05 - val_loss: 6.9661e-05 - val_mean_squared_error: 6.9661e-05\n",
      "Epoch 24/50\n",
      "8/8 [==============================] - 0s 29ms/step - loss: 2.2731e-05 - mean_squared_error: 2.2731e-05 - val_loss: 6.7463e-05 - val_mean_squared_error: 6.7463e-05\n",
      "Epoch 25/50\n",
      "8/8 [==============================] - 0s 30ms/step - loss: 2.6525e-05 - mean_squared_error: 2.6525e-05 - val_loss: 6.8266e-05 - val_mean_squared_error: 6.8266e-05\n",
      "Epoch 26/50\n",
      "8/8 [==============================] - 0s 28ms/step - loss: 2.3011e-05 - mean_squared_error: 2.3011e-05 - val_loss: 7.5692e-05 - val_mean_squared_error: 7.5692e-05\n",
      "Epoch 27/50\n",
      "8/8 [==============================] - 0s 30ms/step - loss: 2.5453e-05 - mean_squared_error: 2.5453e-05 - val_loss: 6.5805e-05 - val_mean_squared_error: 6.5805e-05\n",
      "Epoch 28/50\n",
      "8/8 [==============================] - 0s 29ms/step - loss: 2.4422e-05 - mean_squared_error: 2.4422e-05 - val_loss: 6.9866e-05 - val_mean_squared_error: 6.9866e-05\n",
      "Epoch 29/50\n",
      "8/8 [==============================] - 0s 29ms/step - loss: 2.1660e-05 - mean_squared_error: 2.1660e-05 - val_loss: 6.7476e-05 - val_mean_squared_error: 6.7476e-05\n",
      "Epoch 30/50\n",
      "8/8 [==============================] - 0s 32ms/step - loss: 2.6051e-05 - mean_squared_error: 2.6051e-05 - val_loss: 6.5409e-05 - val_mean_squared_error: 6.5409e-05\n",
      "Epoch 31/50\n",
      "8/8 [==============================] - 0s 30ms/step - loss: 2.7586e-05 - mean_squared_error: 2.7586e-05 - val_loss: 8.7633e-05 - val_mean_squared_error: 8.7633e-05\n",
      "Epoch 32/50\n",
      "8/8 [==============================] - 0s 31ms/step - loss: 2.8084e-05 - mean_squared_error: 2.8084e-05 - val_loss: 6.6273e-05 - val_mean_squared_error: 6.6273e-05\n",
      "Epoch 33/50\n",
      "8/8 [==============================] - 0s 31ms/step - loss: 2.2182e-05 - mean_squared_error: 2.2182e-05 - val_loss: 6.5662e-05 - val_mean_squared_error: 6.5662e-05\n",
      "Epoch 34/50\n",
      "8/8 [==============================] - 0s 32ms/step - loss: 2.3745e-05 - mean_squared_error: 2.3745e-05 - val_loss: 8.1789e-05 - val_mean_squared_error: 8.1789e-05\n",
      "Epoch 35/50\n",
      "8/8 [==============================] - 0s 32ms/step - loss: 2.2758e-05 - mean_squared_error: 2.2758e-05 - val_loss: 6.5432e-05 - val_mean_squared_error: 6.5432e-05\n",
      "Epoch 36/50\n",
      "8/8 [==============================] - 0s 31ms/step - loss: 3.1399e-05 - mean_squared_error: 3.1399e-05 - val_loss: 7.9675e-05 - val_mean_squared_error: 7.9675e-05\n",
      "Epoch 37/50\n",
      "8/8 [==============================] - 0s 31ms/step - loss: 2.8013e-05 - mean_squared_error: 2.8013e-05 - val_loss: 6.5650e-05 - val_mean_squared_error: 6.5650e-05\n",
      "Epoch 38/50\n",
      "8/8 [==============================] - 0s 32ms/step - loss: 2.9750e-05 - mean_squared_error: 2.9750e-05 - val_loss: 7.9016e-05 - val_mean_squared_error: 7.9016e-05\n",
      "Epoch 39/50\n",
      "8/8 [==============================] - 0s 34ms/step - loss: 2.5503e-05 - mean_squared_error: 2.5503e-05 - val_loss: 6.6206e-05 - val_mean_squared_error: 6.6206e-05\n",
      "Epoch 40/50\n",
      "8/8 [==============================] - 0s 34ms/step - loss: 3.4233e-05 - mean_squared_error: 3.4233e-05 - val_loss: 7.3328e-05 - val_mean_squared_error: 7.3328e-05\n",
      "Epoch 41/50\n",
      "8/8 [==============================] - 0s 35ms/step - loss: 2.4393e-05 - mean_squared_error: 2.4393e-05 - val_loss: 6.3918e-05 - val_mean_squared_error: 6.3918e-05\n",
      "Epoch 42/50\n",
      "8/8 [==============================] - 0s 38ms/step - loss: 2.5980e-05 - mean_squared_error: 2.5980e-05 - val_loss: 6.7495e-05 - val_mean_squared_error: 6.7495e-05\n",
      "Epoch 43/50\n",
      "8/8 [==============================] - 0s 35ms/step - loss: 2.3137e-05 - mean_squared_error: 2.3137e-05 - val_loss: 7.2567e-05 - val_mean_squared_error: 7.2567e-05\n",
      "Epoch 44/50\n",
      "8/8 [==============================] - 0s 35ms/step - loss: 2.0200e-05 - mean_squared_error: 2.0200e-05 - val_loss: 6.2945e-05 - val_mean_squared_error: 6.2945e-05\n",
      "Epoch 45/50\n",
      "8/8 [==============================] - 0s 31ms/step - loss: 2.1097e-05 - mean_squared_error: 2.1097e-05 - val_loss: 7.6602e-05 - val_mean_squared_error: 7.6602e-05\n",
      "Epoch 46/50\n",
      "8/8 [==============================] - 0s 33ms/step - loss: 1.9631e-05 - mean_squared_error: 1.9631e-05 - val_loss: 6.8009e-05 - val_mean_squared_error: 6.8009e-05\n",
      "Epoch 47/50\n"
     ]
    },
    {
     "name": "stdout",
     "output_type": "stream",
     "text": [
      "8/8 [==============================] - 0s 28ms/step - loss: 1.9052e-05 - mean_squared_error: 1.9052e-05 - val_loss: 6.5792e-05 - val_mean_squared_error: 6.5792e-05\n",
      "Epoch 48/50\n",
      "8/8 [==============================] - 0s 34ms/step - loss: 1.9411e-05 - mean_squared_error: 1.9411e-05 - val_loss: 6.4074e-05 - val_mean_squared_error: 6.4074e-05\n",
      "Epoch 49/50\n",
      "8/8 [==============================] - 0s 32ms/step - loss: 2.1916e-05 - mean_squared_error: 2.1916e-05 - val_loss: 7.9440e-05 - val_mean_squared_error: 7.9440e-05\n",
      "Epoch 50/50\n",
      "8/8 [==============================] - 0s 31ms/step - loss: 1.9057e-05 - mean_squared_error: 1.9057e-05 - val_loss: 6.4390e-05 - val_mean_squared_error: 6.4390e-05\n",
      "Reshaping predicted\n"
     ]
    }
   ],
   "source": [
    "sequence_length = 10\n",
    "epochs = 50\n",
    "batch_size = 100\n",
    "validation_split = 0.05\n",
    "loss = 'mean_squared_error'\n",
    "optimizer = 'adam'\n",
    "metrics = ['mean_squared_error']\n",
    "\n",
    "data = load_lstm_data(csv_file, 0, \"Bearing1\")\n",
    "X_train, y_train, X_test, y_test = prepare_lstm_data(data, 0.2, sequence_length, False)\n",
    "lstm_model = generate_lstm_model(sequence_length, loss, optimizer, metrics)\n",
    "\n",
    "t0 = times.time()\n",
    "cpu_t0 = psutil.cpu_percent(interval=0.5)\n",
    "history = fit_lstm(lstm_model, X_train, y_train, batch_size, epochs, validation_split)\n",
    "t1 = times.time()\n",
    "cpu_t1 = psutil.cpu_percent(interval=0.5)\n",
    "\n",
    "exp3_train_t = t1 - t0\n",
    "exp3_cpu_train = abs(cpu_t1 - cpu_t0)\n",
    "\n",
    "t0 = times.time()\n",
    "cpu_t0 = psutil.cpu_percent(interval=0.5)\n",
    "lstm_pred = predict_lstm(lstm_model, X_test)\n",
    "t1 = times.time()\n",
    "cpu_t1 = psutil.cpu_percent(interval=0.5)\n",
    "\n",
    "exp3_pred_t = t1 - t0\n",
    "exp3_cpu_pred = abs(cpu_t1 - cpu_t0)\n",
    "\n",
    "exp3_rmse_lstm = rmse(y_test, lstm_pred)"
   ]
  },
  {
   "cell_type": "markdown",
   "metadata": {},
   "source": [
    "### Experiment 4"
   ]
  },
  {
   "cell_type": "code",
   "execution_count": 173,
   "metadata": {},
   "outputs": [
    {
     "name": "stdout",
     "output_type": "stream",
     "text": [
      "Length of Data 982\n",
      "Creating test data...\n",
      "Epoch 1/50\n",
      "19/19 [==============================] - 2s 99ms/step - loss: 0.3671 - mean_squared_error: 0.3671 - val_loss: 0.2293 - val_mean_squared_error: 0.2293\n",
      "Epoch 2/50\n",
      "19/19 [==============================] - 1s 27ms/step - loss: 0.0784 - mean_squared_error: 0.0784 - val_loss: 0.2089 - val_mean_squared_error: 0.2089\n",
      "Epoch 3/50\n",
      "19/19 [==============================] - 1s 27ms/step - loss: 0.0672 - mean_squared_error: 0.0672 - val_loss: 0.1736 - val_mean_squared_error: 0.1736\n",
      "Epoch 4/50\n",
      "19/19 [==============================] - 0s 26ms/step - loss: 0.0728 - mean_squared_error: 0.0728 - val_loss: 0.1745 - val_mean_squared_error: 0.1745\n",
      "Epoch 5/50\n",
      "19/19 [==============================] - 1s 27ms/step - loss: 0.0686 - mean_squared_error: 0.0686 - val_loss: 0.1811 - val_mean_squared_error: 0.1811\n",
      "Epoch 6/50\n",
      "19/19 [==============================] - ETA: 0s - loss: 0.0760 - mean_squared_error: 0.07 - 1s 27ms/step - loss: 0.0746 - mean_squared_error: 0.0746 - val_loss: 0.1908 - val_mean_squared_error: 0.1908\n",
      "Epoch 7/50\n",
      "19/19 [==============================] - 1s 29ms/step - loss: 0.0643 - mean_squared_error: 0.0643 - val_loss: 0.1591 - val_mean_squared_error: 0.1591\n",
      "Epoch 8/50\n",
      "19/19 [==============================] - 1s 28ms/step - loss: 0.0661 - mean_squared_error: 0.0661 - val_loss: 0.1770 - val_mean_squared_error: 0.1770\n",
      "Epoch 9/50\n",
      "19/19 [==============================] - 0s 23ms/step - loss: 0.0633 - mean_squared_error: 0.0633 - val_loss: 0.1844 - val_mean_squared_error: 0.1844\n",
      "Epoch 10/50\n",
      "19/19 [==============================] - 0s 24ms/step - loss: 0.0672 - mean_squared_error: 0.0672 - val_loss: 0.1671 - val_mean_squared_error: 0.1671\n",
      "Epoch 11/50\n",
      "19/19 [==============================] - 0s 22ms/step - loss: 0.0608 - mean_squared_error: 0.0608 - val_loss: 0.1654 - val_mean_squared_error: 0.1654\n",
      "Epoch 12/50\n",
      "19/19 [==============================] - 0s 22ms/step - loss: 0.0536 - mean_squared_error: 0.0536 - val_loss: 0.1815 - val_mean_squared_error: 0.1815\n",
      "Epoch 13/50\n",
      "19/19 [==============================] - 0s 22ms/step - loss: 0.0517 - mean_squared_error: 0.0517 - val_loss: 0.1496 - val_mean_squared_error: 0.1496\n",
      "Epoch 14/50\n",
      "19/19 [==============================] - 0s 22ms/step - loss: 0.0470 - mean_squared_error: 0.0470 - val_loss: 0.1513 - val_mean_squared_error: 0.1513\n",
      "Epoch 15/50\n",
      "19/19 [==============================] - 0s 22ms/step - loss: 0.0479 - mean_squared_error: 0.0479 - val_loss: 0.1382 - val_mean_squared_error: 0.1382\n",
      "Epoch 16/50\n",
      "19/19 [==============================] - 0s 22ms/step - loss: 0.0439 - mean_squared_error: 0.0439 - val_loss: 0.1271 - val_mean_squared_error: 0.1271\n",
      "Epoch 17/50\n",
      "19/19 [==============================] - 0s 22ms/step - loss: 0.0447 - mean_squared_error: 0.0447 - val_loss: 0.1206 - val_mean_squared_error: 0.1206\n",
      "Epoch 18/50\n",
      "19/19 [==============================] - 0s 22ms/step - loss: 0.0372 - mean_squared_error: 0.0372 - val_loss: 0.1109 - val_mean_squared_error: 0.1109\n",
      "Epoch 19/50\n",
      "19/19 [==============================] - 0s 23ms/step - loss: 0.0437 - mean_squared_error: 0.0437 - val_loss: 0.1026 - val_mean_squared_error: 0.1026\n",
      "Epoch 20/50\n",
      "19/19 [==============================] - 0s 24ms/step - loss: 0.0405 - mean_squared_error: 0.0405 - val_loss: 0.1019 - val_mean_squared_error: 0.1019\n",
      "Epoch 21/50\n",
      "19/19 [==============================] - 1s 27ms/step - loss: 0.0529 - mean_squared_error: 0.0529 - val_loss: 0.1110 - val_mean_squared_error: 0.1110\n",
      "Epoch 22/50\n",
      "19/19 [==============================] - 1s 29ms/step - loss: 0.0488 - mean_squared_error: 0.0488 - val_loss: 0.1127 - val_mean_squared_error: 0.1127\n",
      "Epoch 23/50\n",
      "19/19 [==============================] - 0s 23ms/step - loss: 0.0386 - mean_squared_error: 0.0386 - val_loss: 0.0890 - val_mean_squared_error: 0.0890\n",
      "Epoch 24/50\n",
      "19/19 [==============================] - 0s 22ms/step - loss: 0.0310 - mean_squared_error: 0.0310 - val_loss: 0.0908 - val_mean_squared_error: 0.0908\n",
      "Epoch 25/50\n",
      "19/19 [==============================] - 0s 24ms/step - loss: 0.0278 - mean_squared_error: 0.0278 - val_loss: 0.0672 - val_mean_squared_error: 0.0672\n",
      "Epoch 26/50\n",
      "19/19 [==============================] - 0s 25ms/step - loss: 0.0357 - mean_squared_error: 0.0357 - val_loss: 0.0633 - val_mean_squared_error: 0.0633\n",
      "Epoch 27/50\n",
      "19/19 [==============================] - 0s 24ms/step - loss: 0.0327 - mean_squared_error: 0.0327 - val_loss: 0.0726 - val_mean_squared_error: 0.0726\n",
      "Epoch 28/50\n",
      "19/19 [==============================] - 0s 24ms/step - loss: 0.0379 - mean_squared_error: 0.0379 - val_loss: 0.0674 - val_mean_squared_error: 0.0674\n",
      "Epoch 29/50\n",
      "19/19 [==============================] - 0s 22ms/step - loss: 0.0310 - mean_squared_error: 0.0310 - val_loss: 0.0704 - val_mean_squared_error: 0.0704\n",
      "Epoch 30/50\n",
      "19/19 [==============================] - 0s 23ms/step - loss: 0.0354 - mean_squared_error: 0.0354 - val_loss: 0.0563 - val_mean_squared_error: 0.0563\n",
      "Epoch 31/50\n",
      "19/19 [==============================] - 0s 23ms/step - loss: 0.0354 - mean_squared_error: 0.0354 - val_loss: 0.0538 - val_mean_squared_error: 0.0538\n",
      "Epoch 32/50\n",
      "19/19 [==============================] - 0s 22ms/step - loss: 0.0335 - mean_squared_error: 0.0335 - val_loss: 0.0621 - val_mean_squared_error: 0.0621\n",
      "Epoch 33/50\n",
      "19/19 [==============================] - 0s 24ms/step - loss: 0.0322 - mean_squared_error: 0.0322 - val_loss: 0.0514 - val_mean_squared_error: 0.0514\n",
      "Epoch 34/50\n",
      "19/19 [==============================] - 0s 23ms/step - loss: 0.0292 - mean_squared_error: 0.0292 - val_loss: 0.0434 - val_mean_squared_error: 0.0434\n",
      "Epoch 35/50\n",
      "19/19 [==============================] - 0s 23ms/step - loss: 0.0292 - mean_squared_error: 0.0292 - val_loss: 0.0356 - val_mean_squared_error: 0.0356\n",
      "Epoch 36/50\n",
      "19/19 [==============================] - 0s 23ms/step - loss: 0.0265 - mean_squared_error: 0.0265 - val_loss: 0.0315 - val_mean_squared_error: 0.0315\n",
      "Epoch 37/50\n",
      "19/19 [==============================] - 0s 23ms/step - loss: 0.0363 - mean_squared_error: 0.0363 - val_loss: 0.0465 - val_mean_squared_error: 0.0465\n",
      "Epoch 38/50\n",
      "19/19 [==============================] - 0s 24ms/step - loss: 0.0312 - mean_squared_error: 0.0312 - val_loss: 0.0312 - val_mean_squared_error: 0.0312\n",
      "Epoch 39/50\n",
      "19/19 [==============================] - 0s 24ms/step - loss: 0.0257 - mean_squared_error: 0.0257 - val_loss: 0.0276 - val_mean_squared_error: 0.0276\n",
      "Epoch 40/50\n",
      "19/19 [==============================] - 0s 25ms/step - loss: 0.0278 - mean_squared_error: 0.0278 - val_loss: 0.0405 - val_mean_squared_error: 0.0405\n",
      "Epoch 41/50\n",
      "19/19 [==============================] - 1s 27ms/step - loss: 0.0328 - mean_squared_error: 0.0328 - val_loss: 0.0301 - val_mean_squared_error: 0.0301\n",
      "Epoch 42/50\n",
      "19/19 [==============================] - 0s 24ms/step - loss: 0.0310 - mean_squared_error: 0.0310 - val_loss: 0.0258 - val_mean_squared_error: 0.0258\n",
      "Epoch 43/50\n",
      "19/19 [==============================] - 0s 24ms/step - loss: 0.0309 - mean_squared_error: 0.0309 - val_loss: 0.0189 - val_mean_squared_error: 0.0189\n",
      "Epoch 44/50\n",
      "19/19 [==============================] - 0s 25ms/step - loss: 0.0308 - mean_squared_error: 0.0308 - val_loss: 0.0203 - val_mean_squared_error: 0.0203\n",
      "Epoch 45/50\n",
      "19/19 [==============================] - 0s 24ms/step - loss: 0.0257 - mean_squared_error: 0.0257 - val_loss: 0.0225 - val_mean_squared_error: 0.0225\n",
      "Epoch 46/50\n",
      "19/19 [==============================] - 0s 25ms/step - loss: 0.0322 - mean_squared_error: 0.0322 - val_loss: 0.0158 - val_mean_squared_error: 0.0158\n",
      "Epoch 47/50\n",
      "19/19 [==============================] - 0s 22ms/step - loss: 0.0258 - mean_squared_error: 0.0258 - val_loss: 0.0152 - val_mean_squared_error: 0.0152\n",
      "Epoch 48/50\n",
      "19/19 [==============================] - 0s 23ms/step - loss: 0.0256 - mean_squared_error: 0.0256 - val_loss: 0.0111 - val_mean_squared_error: 0.0111\n",
      "Epoch 49/50\n",
      "19/19 [==============================] - 0s 24ms/step - loss: 0.0248 - mean_squared_error: 0.0248 - val_loss: 0.0163 - val_mean_squared_error: 0.0163\n",
      "Epoch 50/50\n",
      "19/19 [==============================] - 0s 23ms/step - loss: 0.0282 - mean_squared_error: 0.0282 - val_loss: 0.0150 - val_mean_squared_error: 0.0150\n",
      "Reshaping predicted\n"
     ]
    }
   ],
   "source": [
    "sequence_length = 10\n",
    "epochs = 50\n",
    "batch_size = 40\n",
    "validation_split = 0.05\n",
    "loss = 'mean_squared_error'\n",
    "optimizer = 'adam'\n",
    "metrics = ['mean_squared_error']\n",
    "\n",
    "data = load_lstm_data(csv_file, 0, \"Bearing1\")\n",
    "X_train, y_train, X_test, y_test = prepare_lstm_data(data, 0.2, sequence_length, True)\n",
    "lstm_model = generate_lstm_model(sequence_length, loss, optimizer, metrics)\n",
    "\n",
    "t0 = times.time()\n",
    "cpu_t0 = psutil.cpu_percent(interval=0.5)\n",
    "history = fit_lstm(lstm_model, X_train, y_train, batch_size, epochs, validation_split)\n",
    "t1 = times.time()\n",
    "cpu_t1 = psutil.cpu_percent(interval=0.5)\n",
    "\n",
    "exp4_train_t = t1 - t0\n",
    "exp4_cpu_train = abs(cpu_t1 - cpu_t0)\n",
    "\n",
    "t0 = times.time()\n",
    "cpu_t0 = psutil.cpu_percent(interval=0.5)\n",
    "lstm_pred = predict_lstm(lstm_model, X_test)\n",
    "t1 = times.time()\n",
    "cpu_t1 = psutil.cpu_percent(interval=0.5)\n",
    "\n",
    "exp4_pred_t = t1 - t0\n",
    "exp4_cpu_pred = abs(cpu_t1 - cpu_t0)\n",
    "\n",
    "exp4_rmse_lstm = rmse(y_test, lstm_pred)"
   ]
  },
  {
   "cell_type": "markdown",
   "metadata": {},
   "source": [
    "Now, we will evaluate the model."
   ]
  },
  {
   "cell_type": "code",
   "execution_count": 174,
   "metadata": {},
   "outputs": [
    {
     "data": {
      "image/png": "[encoded data removed]",
      "text/plain": [
       "<Figure size 432x288 with 1 Axes>"
      ]
     },
     "metadata": {
      "needs_background": "light"
     },
     "output_type": "display_data"
    }
   ],
   "source": [
    "label = [\"EXP1\", \"EXP2\", \"EXP3\", \"EXP4\"]\n",
    "time_train = [exp1_train_t, exp2_train_t,exp3_train_t,exp4_train_t]\n",
    "plot_bar(label,time_train,\"TIME TRAINING EVALUATION\")"
   ]
  },
  {
   "cell_type": "code",
   "execution_count": 176,
   "metadata": {},
   "outputs": [
    {
     "data": {
      "image/png": "[encoded data removed]",
      "text/plain": [
       "<Figure size 432x288 with 1 Axes>"
      ]
     },
     "metadata": {
      "needs_background": "light"
     },
     "output_type": "display_data"
    }
   ],
   "source": [
    "label = [\"EXP1\", \"EXP2\", \"EXP3\", \"EXP4\"]\n",
    "CPU_train = [exp1_cpu_train, exp2_cpu_train,exp3_cpu_train,exp4_cpu_train]\n",
    "plot_bar(label,CPU_train,\"CPU TRAINING EVALUATION\")"
   ]
  },
  {
   "cell_type": "code",
   "execution_count": 177,
   "metadata": {},
   "outputs": [
    {
     "data": {
      "image/png": "[encoded data removed]",
      "text/plain": [
       "<Figure size 432x288 with 1 Axes>"
      ]
     },
     "metadata": {
      "needs_background": "light"
     },
     "output_type": "display_data"
    }
   ],
   "source": [
    "label = [\"EXP1\", \"EXP2\", \"EXP3\", \"EXP4\"]\n",
    "time_pred = [exp1_pred_t, exp2_pred_t,exp3_pred_t,exp4_pred_t]\n",
    "plot_bar(label,time_pred,\"TIME PREDICTION EVALUATION\")"
   ]
  },
  {
   "cell_type": "code",
   "execution_count": 178,
   "metadata": {},
   "outputs": [
    {
     "data": {
      "image/png": "[encoded data removed]",
      "text/plain": [
       "<Figure size 432x288 with 1 Axes>"
      ]
     },
     "metadata": {
      "needs_background": "light"
     },
     "output_type": "display_data"
    }
   ],
   "source": [
    "label = [\"EXP1\", \"EXP2\", \"EXP3\", \"EXP4\"]\n",
    "CPU_pred = [exp1_cpu_pred, exp2_cpu_pred,exp3_cpu_pred,exp4_cpu_pred]\n",
    "plot_bar(label,CPU_pred,\"CPU PREDICTION EVALUATION\")"
   ]
  },
  {
   "cell_type": "code",
   "execution_count": 179,
   "metadata": {},
   "outputs": [
    {
     "data": {
      "image/png": "[encoded data removed]",
      "text/plain": [
       "<Figure size 432x288 with 1 Axes>"
      ]
     },
     "metadata": {
      "needs_background": "light"
     },
     "output_type": "display_data"
    }
   ],
   "source": [
    "label = [\"EXP1\", \"EXP2\", \"EXP3\", \"EXP4\"]\n",
    "rmse = [exp1_rmse_lstm, exp2_rmse_lstm,exp3_rmse_lstm,exp4_rmse_lstm]\n",
    "plot_bar(label,rmse,\"RMSE EVALUATION\")"
   ]
  },
  {
   "cell_type": "markdown",
   "metadata": {},
   "source": [
    "Analyzing the results, we can conclude that the configuration 1 (EXP1) and 3 (EXP3) provides the best model, as the RSME is minimum when you compare with the other configurations.\n",
    "\n",
    "We can see that configuration 3 consumes more time than configuration 1; however, the difference is not so significant. Despite, when will be analyzed the CPU consumption, its results are much better than other approaches."
   ]
  },
  {
   "cell_type": "code",
   "execution_count": null,
   "metadata": {},
   "outputs": [],
   "source": []
  }
 ],
 "metadata": {
  "kernelspec": {
   "display_name": "Python 3",
   "language": "python",
   "name": "python3"
  },
  "language_info": {
   "codemirror_mode": {
    "name": "ipython",
    "version": 3
   },
   "file_extension": ".py",
   "mimetype": "text/x-python",
   "name": "python",
   "nbconvert_exporter": "python",
   "pygments_lexer": "ipython3",
   "version": "3.8.5"
  }
 },
 "nbformat": 4,
 "nbformat_minor": 4
}
