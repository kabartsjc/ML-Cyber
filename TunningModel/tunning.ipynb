{
 "cells": [
  {
   "cell_type": "markdown",
   "metadata": {},
   "source": [
    "# This Exercise aims to train and tunning previous models used in the course."
   ]
  },
  {
   "cell_type": "markdown",
   "metadata": {},
   "source": [
    "***1) Import Dataset Method***"
   ]
  },
  {
   "cell_type": "code",
   "execution_count": 1,
   "metadata": {},
   "outputs": [],
   "source": [
    "import numpy as np\n",
    "from sklearn.model_selection import train_test_split\n",
    "\n",
    "def load_data(data_name):\n",
    "    seed = 7\n",
    "    np.random.seed(seed)\n",
    "    data = np.loadtxt(data_name, delimiter=\",\")\n",
    "    X = data[:, 0:8]\n",
    "    y = data[:, 8]\n",
    "    X_train, X_test, y_train, y_test = train_test_split(X, y, test_size=0.33, random_state=42)\n",
    "    return X_train, X_test, y_train, y_test"
   ]
  },
  {
   "cell_type": "markdown",
   "metadata": {},
   "source": [
    "***2) Generate the model***"
   ]
  },
  {
   "cell_type": "code",
   "execution_count": 2,
   "metadata": {},
   "outputs": [],
   "source": [
    "from keras.models import Sequential\n",
    "from keras.layers import Dense\n",
    "from keras.layers import Dropout\n",
    "\n",
    "def create_model(neurons=1,learn_rate=0.01, momentum=0,init_mode='uniform',activation='relu',dropout_rate=0.0, weight_constraint=0):\n",
    "    # create model\n",
    "    optimizer = SGD(lr=learn_rate, momentum=momentum)\n",
    "    model = Sequential()\n",
    "    model.add(Dense(neurons, input_dim=8, kernel_initializer=init_mode,activation=activation,kernel_constraint=maxnorm(weight_constraint)))\n",
    "    model.add(Dropout(dropout_rate))\n",
    "    model.add(Dense(1, kernel_initializer=init_mode,activation='sigmoid'))\n",
    "    model.compile(loss='binary_crossentropy', optimizer=optimizer, metrics=['accuracy'])\n",
    "    return model"
   ]
  },
  {
   "cell_type": "markdown",
   "metadata": {},
   "source": [
    "***3) Example of Tunning of batch size and number of epochs***"
   ]
  },
  {
   "cell_type": "code",
   "execution_count": 3,
   "metadata": {},
   "outputs": [],
   "source": [
    "from keras.wrappers.scikit_learn import KerasClassifier\n",
    "from keras.constraints import maxnorm\n",
    "\n",
    "from keras.optimizers import SGD\n",
    "\n",
    "from sklearn.model_selection import GridSearchCV\n",
    "def tunning_bsize_epochs(X_train, y_train):\n",
    "    # create model\n",
    "    model = KerasClassifier(build_fn=create_model, verbose=0)\n",
    "    # define the grid search parameters\n",
    "    batch_size = [10, 20, 40, 60, 80, 100]\n",
    "    epochs = [10, 50, 100]\n",
    "    param_grid = dict(batch_size=batch_size, epochs=epochs)\n",
    "    grid = GridSearchCV(estimator=model, param_grid=param_grid, n_jobs=-1, cv=3)\n",
    "    grid_result = grid.fit(X_train, y_train)\n",
    "    # summarize results\n",
    "    print(\"Best: %f using %s\" % (grid_result.best_score_, grid_result.best_params_))\n",
    "    means = grid_result.cv_results_['mean_test_score']\n",
    "    stds = grid_result.cv_results_['std_test_score']\n",
    "    params = grid_result.cv_results_['params']\n",
    "    for mean, stdev, param in zip(means, stds, params):\n",
    "        print(\"%f (%f) with: %r\" % (mean, stdev, param))\n"
   ]
  },
  {
   "cell_type": "markdown",
   "metadata": {},
   "source": [
    "***4) Run the previous code and find the best batch size and number of epochs***"
   ]
  },
  {
   "cell_type": "code",
   "execution_count": 4,
   "metadata": {},
   "outputs": [
    {
     "name": "stdout",
     "output_type": "stream",
     "text": [
      "Best: 0.645916 using {'batch_size': 10, 'epochs': 10}\n",
      "0.645916 (0.002421) with: {'batch_size': 10, 'epochs': 10}\n",
      "0.645916 (0.002421) with: {'batch_size': 10, 'epochs': 50}\n",
      "0.645916 (0.002421) with: {'batch_size': 10, 'epochs': 100}\n",
      "0.645916 (0.002421) with: {'batch_size': 20, 'epochs': 10}\n",
      "0.645916 (0.002421) with: {'batch_size': 20, 'epochs': 50}\n",
      "0.645916 (0.002421) with: {'batch_size': 20, 'epochs': 100}\n",
      "0.645916 (0.002421) with: {'batch_size': 40, 'epochs': 10}\n",
      "0.645916 (0.002421) with: {'batch_size': 40, 'epochs': 50}\n",
      "0.645916 (0.002421) with: {'batch_size': 40, 'epochs': 100}\n",
      "0.645916 (0.002421) with: {'batch_size': 60, 'epochs': 10}\n",
      "0.645916 (0.002421) with: {'batch_size': 60, 'epochs': 50}\n",
      "0.645916 (0.002421) with: {'batch_size': 60, 'epochs': 100}\n",
      "0.645916 (0.002421) with: {'batch_size': 80, 'epochs': 10}\n",
      "0.645916 (0.002421) with: {'batch_size': 80, 'epochs': 50}\n",
      "0.645916 (0.002421) with: {'batch_size': 80, 'epochs': 100}\n",
      "0.645916 (0.002421) with: {'batch_size': 100, 'epochs': 10}\n",
      "0.645916 (0.002421) with: {'batch_size': 100, 'epochs': 50}\n",
      "0.645916 (0.002421) with: {'batch_size': 100, 'epochs': 100}\n"
     ]
    }
   ],
   "source": [
    "dataset_name = \"resources/pima-indians-diabetes.csv\"\n",
    "X_train, X_test, y_train, y_test = load_data(dataset_name)\n",
    "\n",
    "tunning_bsize_epochs(X_train, y_train)"
   ]
  },
  {
   "cell_type": "markdown",
   "metadata": {},
   "source": [
    "***5) Adjust the model and find the best learn rate and momentum values***\n",
    "\n",
    "a) Adjust the create_model method to use the tunned values\n",
    "b) Create a new method to find the learning rate and momentum.\n",
    "\n",
    "obs: use following values to test:\n",
    "- learn_rate = [0.001, 0.01, 0.1, 0.2, 0.3]\n",
    "- momentum = [0.0, 0.2, 0.4, 0.6, 0.8, 0.9]"
   ]
  },
  {
   "cell_type": "code",
   "execution_count": null,
   "metadata": {},
   "outputs": [],
   "source": []
  },
  {
   "cell_type": "markdown",
   "metadata": {},
   "source": [
    "***6) Adjust the model and find the best Network Weight Initialization value***\n",
    "\n",
    "a) Adjust the create_model method to use the tunned values\n",
    "b) Create a new method to find the Network Weight Initialization.\n",
    "\n",
    "obs: use following values to test:\n",
    "- init_mode = ['uniform', 'lecun_uniform', 'normal', 'zero', 'glorot_normal', 'glorot_uniform', 'he_normal','he_uniform']"
   ]
  },
  {
   "cell_type": "code",
   "execution_count": null,
   "metadata": {},
   "outputs": [],
   "source": []
  },
  {
   "cell_type": "markdown",
   "metadata": {},
   "source": [
    "***7) Adjust the model and find the best Neuron Activation Function value***\n",
    "\n",
    "a) Adjust the create_model method to use the tunned values\n",
    "b) Create a new method to find the Neuron Activation Function.\n",
    "\n",
    "obs: use following values to test:\n",
    "- activation = ['softmax', 'softplus', 'softsign', 'relu', 'tanh', 'sigmoid', 'hard_sigmoid', 'linear']"
   ]
  },
  {
   "cell_type": "code",
   "execution_count": null,
   "metadata": {},
   "outputs": [],
   "source": []
  },
  {
   "cell_type": "markdown",
   "metadata": {},
   "source": [
    "***8) Adjust the model and find the best Dropout Regularization rate value***\n",
    "\n",
    "a) Adjust the create_model method to use the tunned values\n",
    "b) Create a new method to find the Dropout Regularization rate.\n",
    "\n",
    "obs: use following values to test:\n",
    "-   dropout_rate = [0.0, 0.1, 0.2, 0.3, 0.4, 0.5, 0.6, 0.7, 0.8, 0.9]"
   ]
  },
  {
   "cell_type": "code",
   "execution_count": null,
   "metadata": {},
   "outputs": [],
   "source": []
  },
  {
   "cell_type": "markdown",
   "metadata": {},
   "source": [
    "***9) Adjust the model and find the best Number of Neurons in the Hidden Layer value***\n",
    "\n",
    "a) Adjust the create_model method to use the tunned values\n",
    "b) Create a new method to find the Number of Neurons in the Hidden Layer.\n",
    "\n",
    "obs: use following values to test:\n",
    "-   neurons = [1, 5, 10, 15, 20, 25, 30]"
   ]
  },
  {
   "cell_type": "code",
   "execution_count": null,
   "metadata": {},
   "outputs": [],
   "source": []
  }
 ],
 "metadata": {
  "kernelspec": {
   "display_name": "Python 3",
   "language": "python",
   "name": "python3"
  },
  "language_info": {
   "codemirror_mode": {
    "name": "ipython",
    "version": 3
   },
   "file_extension": ".py",
   "mimetype": "text/x-python",
   "name": "python",
   "nbconvert_exporter": "python",
   "pygments_lexer": "ipython3",
   "version": "3.8.5"
  }
 },
 "nbformat": 4,
 "nbformat_minor": 4
}
